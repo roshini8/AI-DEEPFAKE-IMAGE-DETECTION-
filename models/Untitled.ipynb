{
 "cells": [
  {
   "cell_type": "code",
   "execution_count": null,
   "id": "c244d849-28ea-412a-9948-1ff06b26ecd7",
   "metadata": {},
   "outputs": [
    {
     "name": "stdout",
     "output_type": "stream",
     "text": [
      "WARNING:tensorflow:From C:\\Users\\roshi\\PycharmProjects\\DEEPTRUTH\\venv\\lib\\site-packages\\keras\\src\\losses.py:2976: The name tf.losses.sparse_softmax_cross_entropy is deprecated. Please use tf.compat.v1.losses.sparse_softmax_cross_entropy instead.\n",
      "\n"
     ]
    }
   ],
   "source": [
    "import torch\n",
    "import numpy as np\n",
    "import os\n",
    "import cv2\n",
    "import tensorflow as tf\n",
    "from tensorflow.keras import optimizers\n",
    "from tensorflow.keras.layers import *\n",
    "from tensorflow.keras.models import Model\n",
    "from tensorflow.keras.callbacks import EarlyStopping, ModelCheckpoint\n",
    "from sklearn.model_selection import train_test_split\n",
    "from sklearn.metrics import accuracy_score, confusion_matrix, classification_report\n",
    "from facenet_pytorch import InceptionResnetV1\n",
    "\n",
    "# Constants\n",
    "IMAGE_SIZE = 160  # Adjusted size for InceptionResnetV1\n",
    "BATCH_SIZE = 32\n",
    "CHANNELS = 3\n",
    "\n",
    "# Function to read and preprocess images\n",
    "def read_and_preprocess(img_path):\n",
    "    img = cv2.imread(img_path, cv2.IMREAD_COLOR)\n",
    "    img = cv2.resize(img, (IMAGE_SIZE, IMAGE_SIZE))\n",
    "    img = np.array(img, dtype='float32') \n",
    "    img = img / 255 \n",
    "    return img\n",
    "\n",
    "# Path to the dataset\n",
    "image_path = 'C:/Users/roshi/PycharmProjects/DEEPTRUTH/Model Creation/data/'\n",
    "\n",
    "# Lists to store images and labels\n",
    "X = [] \n",
    "y = [] \n",
    "\n",
    "# Labels: 0 - Real, 1 - Fake\n",
    "for folder in os.scandir(image_path):\n",
    "    for entry in os.scandir(image_path + folder.name):\n",
    "        X.append(read_and_preprocess(image_path + folder.name + '/' + entry.name))\n",
    "        y.append(0 if folder.name[0] == 'r' else 1)\n",
    "\n",
    "# Convert to numpy arrays\n",
    "X = np.array(X)\n",
    "y = np.array(y)\n",
    "\n",
    "# Train-Test-Validation Split\n",
    "X_train, X_val, y_train, y_val = train_test_split(X, y, test_size=0.2, shuffle=True, stratify=y, random_state=123)\n",
    "X_test, X_val, y_test, y_val = train_test_split(X_val, y_val, test_size=0.5, shuffle=True, stratify=y_val, random_state=123)\n",
    "\n",
    "# InceptionResnetV1 Model\n",
    "base_model = InceptionResnetV1(pretrained='vggface2', classify=True, num_classes=1, device='cuda' if torch.cuda.is_available() else 'cpu')\n",
    "\n",
    "# Customize the model head\n",
    "x = base_model.logits.in_features\n",
    "model = InceptionResnetV1(pretrained='vggface2', classify=True, num_classes=2, device='cuda' if torch.cuda.is_available() else 'cpu')\n",
    "\n",
    "model.logits = nn.Linear(x, 2)\n",
    "\n",
    "# Compile the model\n",
    "model.compile(loss='sparse_categorical_crossentropy', optimizer=optimizers.Adam(learning_rate=0.001), metrics=[\"accuracy\"])\n",
    "\n",
    "# Callbacks for early stopping and model checkpoint\n",
    "early_stopping = EarlyStopping(monitor='val_loss', mode='min', verbose=1, patience=10)\n",
    "checkpointer = ModelCheckpoint(filepath=\"inceptionresnetv1_weights.h5\", verbose=1, save_best_only=True)\n",
    "\n",
    "# Model training\n",
    "history = model.fit(X_train, y_train, epochs=32, validation_data=(X_val, y_val),\n",
    "                    batch_size=BATCH_SIZE, shuffle=True, callbacks=[early_stopping, checkpointer])\n",
    "\n",
    "# Save the PyTorch model as a checkpoint\n",
    "torch_model = InceptionResnetV1(pretrained='vggface2', classify=True, num_classes=1, device='cuda' if torch.cuda.is_available() else 'cpu')\n",
    "torch_model.logits = nn.Linear(x, 2)\n",
    "torch_model.load_state_dict(model.state_dict())\n",
    "\n",
    "# Save the model checkpoint\n",
    "torch.save(torch_model.state_dict(), \"resnetinceptionv1_epoch_32.pth\")\n"
   ]
  },
  {
   "cell_type": "code",
   "execution_count": null,
   "id": "6766cb18-e2f4-4f95-90e7-53d4f8e77886",
   "metadata": {},
   "outputs": [],
   "source": []
  }
 ],
 "metadata": {
  "kernelspec": {
   "display_name": "Python 3 (ipykernel)",
   "language": "python",
   "name": "python3"
  },
  "language_info": {
   "codemirror_mode": {
    "name": "ipython",
    "version": 3
   },
   "file_extension": ".py",
   "mimetype": "text/x-python",
   "name": "python",
   "nbconvert_exporter": "python",
   "pygments_lexer": "ipython3",
   "version": "3.9.5"
  }
 },
 "nbformat": 4,
 "nbformat_minor": 5
}
